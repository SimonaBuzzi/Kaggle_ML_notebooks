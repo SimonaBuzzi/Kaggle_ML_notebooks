{
 "cells": [
  {
   "cell_type": "code",
   "execution_count": 1,
   "id": "922cca41",
   "metadata": {
    "execution": {
     "iopub.execute_input": "2024-04-02T13:19:43.685150Z",
     "iopub.status.busy": "2024-04-02T13:19:43.684230Z",
     "iopub.status.idle": "2024-04-02T13:19:46.969437Z",
     "shell.execute_reply": "2024-04-02T13:19:46.967943Z"
    },
    "papermill": {
     "duration": 3.295211,
     "end_time": "2024-04-02T13:19:46.972147",
     "exception": false,
     "start_time": "2024-04-02T13:19:43.676936",
     "status": "completed"
    },
    "tags": []
   },
   "outputs": [
    {
     "name": "stdout",
     "output_type": "stream",
     "text": [
      "First in-sample predictions: [208500. 181500. 223500. 140000. 250000.]\n",
      "Actual target values for those homes: [208500, 181500, 223500, 140000, 250000]\n",
      "Setup Complete\n"
     ]
    }
   ],
   "source": [
    "# Code you have previously used to load data\n",
    "import pandas as pd\n",
    "from sklearn.tree import DecisionTreeRegressor\n",
    "\n",
    "# Path of the file to read\n",
    "iowa_file_path = '../input/home-data-for-ml-course/train.csv'\n",
    "\n",
    "home_data = pd.read_csv(iowa_file_path)\n",
    "y = home_data.SalePrice\n",
    "feature_columns = ['LotArea', 'YearBuilt', '1stFlrSF', '2ndFlrSF', 'FullBath', 'BedroomAbvGr', 'TotRmsAbvGrd']\n",
    "X = home_data[feature_columns]\n",
    "\n",
    "# Specify Model\n",
    "iowa_model = DecisionTreeRegressor()\n",
    "# Fit Model\n",
    "iowa_model.fit(X, y)\n",
    "\n",
    "print(\"First in-sample predictions:\", iowa_model.predict(X.head()))\n",
    "print(\"Actual target values for those homes:\", y.head().tolist())\n",
    "\n",
    "# Set up code checking\n",
    "from learntools.core import binder\n",
    "binder.bind(globals())\n",
    "from learntools.machine_learning.ex4 import *\n",
    "print(\"Setup Complete\")"
   ]
  },
  {
   "cell_type": "code",
   "execution_count": 2,
   "id": "b117d735",
   "metadata": {
    "execution": {
     "iopub.execute_input": "2024-04-02T13:19:46.985108Z",
     "iopub.status.busy": "2024-04-02T13:19:46.984599Z",
     "iopub.status.idle": "2024-04-02T13:19:46.994586Z",
     "shell.execute_reply": "2024-04-02T13:19:46.993201Z"
    },
    "papermill": {
     "duration": 0.020372,
     "end_time": "2024-04-02T13:19:46.997601",
     "exception": false,
     "start_time": "2024-04-02T13:19:46.977229",
     "status": "completed"
    },
    "tags": []
   },
   "outputs": [
    {
     "name": "stdout",
     "output_type": "stream",
     "text": [
      "62.35433789954339\n"
     ]
    }
   ],
   "source": [
    "from sklearn.metrics import mean_absolute_error\n",
    "\n",
    "predictions = iowa_model.predict(X)\n",
    "mae = mean_absolute_error(y, predictions)\n",
    "\n",
    "# uncomment following line to see the validation_mae\n",
    "print(mae)"
   ]
  },
  {
   "cell_type": "code",
   "execution_count": 3,
   "id": "6d699d7b",
   "metadata": {
    "execution": {
     "iopub.execute_input": "2024-04-02T13:19:47.021665Z",
     "iopub.status.busy": "2024-04-02T13:19:47.020838Z",
     "iopub.status.idle": "2024-04-02T13:19:47.053000Z",
     "shell.execute_reply": "2024-04-02T13:19:47.051705Z"
    },
    "papermill": {
     "duration": 0.042218,
     "end_time": "2024-04-02T13:19:47.056037",
     "exception": false,
     "start_time": "2024-04-02T13:19:47.013819",
     "status": "completed"
    },
    "tags": []
   },
   "outputs": [
    {
     "data": {
      "application/javascript": [
       "parent.postMessage({\"jupyterEvent\": \"custom.exercise_interaction\", \"data\": {\"outcomeType\": 1, \"valueTowardsCompletion\": 0.25, \"interactionType\": 1, \"questionType\": 2, \"questionId\": \"1_SplitData\", \"learnToolsVersion\": \"0.3.4\", \"failureMessage\": \"\", \"exceptionClass\": \"\", \"trace\": \"\"}}, \"*\")"
      ],
      "text/plain": [
       "<IPython.core.display.Javascript object>"
      ]
     },
     "metadata": {},
     "output_type": "display_data"
    },
    {
     "data": {
      "text/markdown": [
       "<span style=\"color:#33cc33\">Correct</span>"
      ],
      "text/plain": [
       "Correct"
      ]
     },
     "metadata": {},
     "output_type": "display_data"
    }
   ],
   "source": [
    "from sklearn.model_selection import train_test_split\n",
    "\n",
    "# split data into training and validation data, for both features and target\n",
    "# The split is based on a random number generator. Supplying a numeric value to\n",
    "# the random_state argument guarantees we get the same split every time we\n",
    "# run this script.\n",
    "train_X, val_X, train_y, val_y = train_test_split(X, y, random_state = 1)\n",
    "# Define model\n",
    "iowa_model = DecisionTreeRegressor()\n",
    "# Fit model\n",
    "iowa_model.fit(train_X, train_y)\n",
    "step_1.check()"
   ]
  },
  {
   "cell_type": "markdown",
   "id": "bd5e2011",
   "metadata": {
    "papermill": {
     "duration": 0.005736,
     "end_time": "2024-04-02T13:19:47.088995",
     "exception": false,
     "start_time": "2024-04-02T13:19:47.083259",
     "status": "completed"
    },
    "tags": []
   },
   "source": [
    "## Step 2: Specify and Fit the Model\n",
    "\n",
    "Create a `DecisionTreeRegressor` model and fit it to the relevant data.\n",
    "Set `random_state` to 1 again when creating the model."
   ]
  },
  {
   "cell_type": "code",
   "execution_count": 5,
   "id": "67dd6c38",
   "metadata": {
    "execution": {
     "iopub.execute_input": "2024-04-02T13:19:47.104371Z",
     "iopub.status.busy": "2024-04-02T13:19:47.102997Z",
     "iopub.status.idle": "2024-04-02T13:19:47.133665Z",
     "shell.execute_reply": "2024-04-02T13:19:47.132346Z"
    },
    "papermill": {
     "duration": 0.041245,
     "end_time": "2024-04-02T13:19:47.136679",
     "exception": false,
     "start_time": "2024-04-02T13:19:47.095434",
     "status": "completed"
    },
    "tags": []
   },
   "outputs": [
    {
     "name": "stdout",
     "output_type": "stream",
     "text": [
      "[186500. 184000. 130000.  92000. 164500. 220000. 335000. 144152. 215000.\n",
      " 262000.]\n",
      "[186500. 184000. 130000.  92000. 164500. 220000. 335000. 144152. 215000.\n",
      " 262000.]\n"
     ]
    },
    {
     "data": {
      "application/javascript": [
       "parent.postMessage({\"jupyterEvent\": \"custom.exercise_interaction\", \"data\": {\"outcomeType\": 1, \"valueTowardsCompletion\": 0.25, \"interactionType\": 1, \"questionType\": 2, \"questionId\": \"2_FitModelWithTrain\", \"learnToolsVersion\": \"0.3.4\", \"failureMessage\": \"\", \"exceptionClass\": \"\", \"trace\": \"\"}}, \"*\")"
      ],
      "text/plain": [
       "<IPython.core.display.Javascript object>"
      ]
     },
     "metadata": {},
     "output_type": "display_data"
    },
    {
     "data": {
      "text/markdown": [
       "<span style=\"color:#33cc33\">Correct</span>"
      ],
      "text/plain": [
       "Correct"
      ]
     },
     "metadata": {},
     "output_type": "display_data"
    }
   ],
   "source": [
    "# You imported DecisionTreeRegressor in your last exercise\n",
    "# and that code has been copied to the setup code above. So, no need to\n",
    "# Specify the model\n",
    "iowa_model = DecisionTreeRegressor(random_state = 1)\n",
    "\n",
    "# Fit iowa_model with the training data.\n",
    "iowa_model.fit(train_X, train_y)\n",
    "\n",
    "# Check your answer\n",
    "step_2.check()"
   ]
  },
  {
   "cell_type": "markdown",
   "id": "48ac2af2",
   "metadata": {
    "papermill": {
     "duration": 0.005638,
     "end_time": "2024-04-02T13:19:47.171706",
     "exception": false,
     "start_time": "2024-04-02T13:19:47.166068",
     "status": "completed"
    },
    "tags": []
   },
   "source": [
    "## Step 3: Make Predictions with Validation data\n"
   ]
  },
  {
   "cell_type": "code",
   "execution_count": 7,
   "id": "02d3d45c",
   "metadata": {
    "execution": {
     "iopub.execute_input": "2024-04-02T13:19:47.185731Z",
     "iopub.status.busy": "2024-04-02T13:19:47.185295Z",
     "iopub.status.idle": "2024-04-02T13:19:47.202207Z",
     "shell.execute_reply": "2024-04-02T13:19:47.200638Z"
    },
    "papermill": {
     "duration": 0.027111,
     "end_time": "2024-04-02T13:19:47.205119",
     "exception": false,
     "start_time": "2024-04-02T13:19:47.178008",
     "status": "completed"
    },
    "tags": []
   },
   "outputs": [
    {
     "data": {
      "application/javascript": [
       "parent.postMessage({\"jupyterEvent\": \"custom.exercise_interaction\", \"data\": {\"outcomeType\": 1, \"valueTowardsCompletion\": 0.25, \"interactionType\": 1, \"questionType\": 2, \"questionId\": \"3_ValPreds\", \"learnToolsVersion\": \"0.3.4\", \"failureMessage\": \"\", \"exceptionClass\": \"\", \"trace\": \"\"}}, \"*\")"
      ],
      "text/plain": [
       "<IPython.core.display.Javascript object>"
      ]
     },
     "metadata": {},
     "output_type": "display_data"
    },
    {
     "data": {
      "text/markdown": [
       "<span style=\"color:#33cc33\">Correct</span>"
      ],
      "text/plain": [
       "Correct"
      ]
     },
     "metadata": {},
     "output_type": "display_data"
    }
   ],
   "source": [
    "# Predict with all validation observations\n",
    "val_predictions = iowa_model.predict(val_X)\n",
    "\n",
    "# Check your answer\n",
    "step_3.check()"
   ]
  },
  {
   "cell_type": "code",
   "execution_count": 10,
   "id": "06380f9b",
   "metadata": {
    "execution": {
     "iopub.execute_input": "2024-04-02T13:19:47.300039Z",
     "iopub.status.busy": "2024-04-02T13:19:47.299512Z",
     "iopub.status.idle": "2024-04-02T13:19:47.314154Z",
     "shell.execute_reply": "2024-04-02T13:19:47.312719Z"
    },
    "papermill": {
     "duration": 0.026169,
     "end_time": "2024-04-02T13:19:47.317222",
     "exception": false,
     "start_time": "2024-04-02T13:19:47.291053",
     "status": "completed"
    },
    "tags": []
   },
   "outputs": [
    {
     "name": "stdout",
     "output_type": "stream",
     "text": [
      "29652.931506849316\n"
     ]
    },
    {
     "data": {
      "application/javascript": [
       "parent.postMessage({\"jupyterEvent\": \"custom.exercise_interaction\", \"data\": {\"outcomeType\": 1, \"valueTowardsCompletion\": 0.25, \"interactionType\": 1, \"questionType\": 1, \"questionId\": \"4_MAE\", \"learnToolsVersion\": \"0.3.4\", \"failureMessage\": \"\", \"exceptionClass\": \"\", \"trace\": \"\"}}, \"*\")"
      ],
      "text/plain": [
       "<IPython.core.display.Javascript object>"
      ]
     },
     "metadata": {},
     "output_type": "display_data"
    },
    {
     "data": {
      "text/markdown": [
       "<span style=\"color:#33cc33\">Correct</span>"
      ],
      "text/plain": [
       "Correct"
      ]
     },
     "metadata": {},
     "output_type": "display_data"
    }
   ],
   "source": [
    "from sklearn.metrics import mean_absolute_error\n",
    "val_mae = mean_absolute_error(val_y, val_predictions)\n",
    "\n",
    "# uncomment following line to see the validation_mae\n",
    "print(val_mae)\n",
    "\n",
    "# Check your answer\n",
    "step_4.check()"
   ]
  }
 ],
 "metadata": {
  "kaggle": {
   "accelerator": "none",
   "dataSources": [
    {
     "databundleVersionId": 111096,
     "sourceId": 10211,
     "sourceType": "competition"
    },
    {
     "datasetId": 11167,
     "sourceId": 15520,
     "sourceType": "datasetVersion"
    },
    {
     "datasetId": 2709,
     "sourceId": 38454,
     "sourceType": "datasetVersion"
    }
   ],
   "isGpuEnabled": false,
   "isInternetEnabled": false,
   "language": "python",
   "sourceType": "notebook"
  },
  "kernelspec": {
   "display_name": "Python 3 (ipykernel)",
   "language": "python",
   "name": "python3"
  },
  "language_info": {
   "codemirror_mode": {
    "name": "ipython",
    "version": 3
   },
   "file_extension": ".py",
   "mimetype": "text/x-python",
   "name": "python",
   "nbconvert_exporter": "python",
   "pygments_lexer": "ipython3",
   "version": "3.11.5"
  },
  "papermill": {
   "default_parameters": {},
   "duration": 10.260377,
   "end_time": "2024-04-02T13:19:50.593974",
   "environment_variables": {},
   "exception": null,
   "input_path": "__notebook__.ipynb",
   "output_path": "__notebook__.ipynb",
   "parameters": {},
   "start_time": "2024-04-02T13:19:40.333597",
   "version": "2.5.0"
  }
 },
 "nbformat": 4,
 "nbformat_minor": 5
}
